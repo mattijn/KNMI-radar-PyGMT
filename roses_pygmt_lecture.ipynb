{
 "cells": [
  {
   "cell_type": "markdown",
   "metadata": {},
   "source": [
    "<h1 style=\"text-align:center; color:#207a38;\">ROSES Unit 8 — PyGMT (Lecture notebook)</h1>\n",
    "<br>\n",
    "<br>\n",
    "<div style=\"text-align:center; font-size:16px\">\n",
    "    <b><a href=\"https://liam.earth/\">Liam Toney</a></b><br>\n",
    "    <br>\n",
    "    Geophysical Institute,<br>\n",
    "    University of Alaska Fairbanks<br>\n",
    "    <br>\n",
    "    11 August 2020\n",
    "</div>"
   ]
  },
  {
   "cell_type": "markdown",
   "metadata": {},
   "source": [
    "---\n",
    "## 1. Basics\n",
    "\n",
    "First, let's import the PyGMT Python package:"
   ]
  },
  {
   "cell_type": "code",
   "execution_count": null,
   "metadata": {
    "scrolled": true
   },
   "outputs": [],
   "source": [
    "import pygmt"
   ]
  },
  {
   "cell_type": "markdown",
   "metadata": {},
   "source": [
    "In PyGMT, every plot or map must start with the creation of a [`pygmt.Figure`](https://www.pygmt.org/latest/api/generated/pygmt.Figure.html#pygmt.Figure) instance. This is similar to the Matplotlib command\n",
    "```python\n",
    "fig = plt.figure()\n",
    "```\n",
    "which creates a `matplotlib.figure.Figure` instance. (Throughout this lecture, I'll try to connect PyGMT commands to Matplotlib commands.)"
   ]
  },
  {
   "cell_type": "code",
   "execution_count": null,
   "metadata": {},
   "outputs": [],
   "source": [
    "fig = pygmt.Figure()"
   ]
  },
  {
   "cell_type": "markdown",
   "metadata": {},
   "source": [
    "Now what? All of PyGMT's functionality is described at the PyGMT website, [pygmt.org](https://www.pygmt.org/latest/). It's your one-stop shop for both detailed documentation **and** helpful examples and tutorials. The [API Reference](https://www.pygmt.org/latest/api/index.html) section (API = Application Programming Interface) shows what plotting methods the `pygmt.Figure` class contains. Let's look at the docs for [`Figure.coast`](https://www.pygmt.org/latest/api/generated/pygmt.Figure.coast.html#pygmt.Figure.coast), and use that."
   ]
  },
  {
   "cell_type": "code",
   "execution_count": null,
   "metadata": {},
   "outputs": [],
   "source": [
    "fig.coast(\n",
    "    region='g',\n",
    "    projection='R20/8i',\n",
    "    shorelines=True,\n",
    "    water='lightblue',\n",
    "    land='grey',\n",
    "    frame=True,\n",
    ")"
   ]
  },
  {
   "cell_type": "markdown",
   "metadata": {},
   "source": [
    "...wait. Nothing happened! PyGMT always needs a special closing command, [`Figure.show()`](https://www.pygmt.org/latest/api/generated/pygmt.Figure.show.html#pygmt.Figure.show), to show the figure. It's like using Matplotlib in non-interactive mode, where `plt.show()` or `fig.show()` is required."
   ]
  },
  {
   "cell_type": "code",
   "execution_count": null,
   "metadata": {},
   "outputs": [],
   "source": [
    "fig.show()"
   ]
  },
  {
   "cell_type": "markdown",
   "metadata": {},
   "source": [
    "That's better. Our first PyGMT map! We can also show a figure \"externally\" in a PDF viewer (e.g., in Preview on macOS) with the `method='external'` keyword argument:"
   ]
  },
  {
   "cell_type": "code",
   "execution_count": null,
   "metadata": {},
   "outputs": [],
   "source": [
    "fig.show(method='external')"
   ]
  },
  {
   "cell_type": "markdown",
   "metadata": {},
   "source": [
    "You may have noticed that some of the keyword arguments in the above `fig.coast(...)` call are a little opaque. Let's talk about the `region` and `projection` arguments in PyGMT.\n",
    "\n",
    "* ### The `region` argument\n",
    "\n",
    "  The `region` argument controls the geographic or Cartesian extent of the figure. If you're familiar with GMT, this is the same as the `-R` flag, as in e.g. `-R45/55/135/145`. (In PyGMT parlance, we call `region` an \"alias\" for `R`.) In PyGMT, regions are specified as lists of `[xmin, xmax, ymin, ymax]`, e.g. `region=[45, 55, 135, 145]`. However, there's more! GMT (and therefore PyGMT) also supports ISO country code strings as inputs to `region`, e.g. `region='EG'` will produce a map with an extent covering all of Egypt. In the call above, I used another shortcut, `region='g'`, which specifies a **global** domain.\n",
    "\n",
    "* ### The  `projection` argument\n",
    "\n",
    "  The `projection` argument controls the map projection. GMT (and therefore PyGMT) supports 31 different map projections, from basic Cartesian axes to [arbitrary vertical perspectives](https://docs.generic-mapping-tools.org/latest/gallery/ex26.html). Again, if you're familiar with GMT, these are specified using the `-J` flag, as in `-JM4i`. In PyGMT, projections codes are still strings, but the `J` is dropped, so an equivalent PyGMT argument would be `projection='M4i'`.\n",
    "\n",
    "  Projection codes have the general form `<letter_code><reference_coords><scale_or_width>`, with `<reference_coords>` optional for some projections. For example, the code `'M4i'` from the previous paragraph specifies a four-inch-wide   Mercator projection, since `M` is the Mercator code. A more complicated example is `'S-150/90/6i'` — this is a six-inch wide general stereographic projection centered on longitude -150°, latitude 90°. A complete list of projection   codes is given [here](https://docs.generic-mapping-tools.org/latest/proj-codes.html). Note that to use scale instead   of width, you must use a lower-case letter code, e.g. `m` instead of `M` for Mercator. Using the list of projection   codes, can you \"translate\" the `projection` argument from our first map?\n",
    "  \n",
    "Now let's play around with this two important arguments. First, `region`. Try changing the `region`argument around in the below example. Don't forget to try some [ISO codes](https://en.wikipedia.org/wiki/List_of_ISO_3166_country_codes)!"
   ]
  },
  {
   "cell_type": "code",
   "execution_count": null,
   "metadata": {
    "scrolled": false
   },
   "outputs": [],
   "source": [
    "fig = pygmt.Figure()\n",
    "fig.coast(\n",
    "    region=[-130, -120, 46, 52],\n",
    "    projection='M4i',\n",
    "    shorelines=True,\n",
    "    water='lightblue',\n",
    "    land='grey',\n",
    "    frame=True\n",
    ")\n",
    "fig.show()"
   ]
  },
  {
   "cell_type": "markdown",
   "metadata": {},
   "source": [
    "Now let's experiment with the other key parameter, `projection`. Here's the same example as above, but with a different projection:"
   ]
  },
  {
   "cell_type": "code",
   "execution_count": null,
   "metadata": {
    "scrolled": false
   },
   "outputs": [],
   "source": [
    "fig = pygmt.Figure()\n",
    "fig.coast(\n",
    "    region=[-130, -120, 46, 52],\n",
    "    projection='S-125/90/4i',\n",
    "    shorelines=True,\n",
    "    water='lightblue',\n",
    "    land='grey',\n",
    "    frame=True,\n",
    ")\n",
    "fig.show()"
   ]
  },
  {
   "cell_type": "markdown",
   "metadata": {},
   "source": [
    "The distortion of different projections is more visible near the poles. Try changing the projection for this map of Alaska:"
   ]
  },
  {
   "cell_type": "code",
   "execution_count": null,
   "metadata": {
    "scrolled": false
   },
   "outputs": [],
   "source": [
    "fig = pygmt.Figure()\n",
    "fig.coast(\n",
    "    region=[171, 231, 50, 72],\n",
    "    projection='S201/90/8i',\n",
    "    shorelines=True,\n",
    "    water='lightblue',\n",
    "    land='grey',\n",
    "    frame=0,\n",
    "    resolution='i',\n",
    ")\n",
    "fig.show()"
   ]
  },
  {
   "cell_type": "markdown",
   "metadata": {},
   "source": [
    "## 2. Some plotting commands\n",
    "\n",
    "PyGMT's `Figure` class has a number of plotting methods, all of which are documented in the API Reference section of the website. All of these are wrapping GMT commands. Here are a few examples:\n",
    "\n",
    "### `Figure.plot()`\n",
    "\n",
    "[`Figure.plot()`](https://www.pygmt.org/latest/api/generated/pygmt.Figure.plot.html#pygmt.Figure.plot) handles the plotting of both line and point data. In GMT, \"pen\" usually refers to the specification of outlines, such as those of the markers below. `color` specifies the marker fill color. The `style` argument controls the symbol type and the size. There are numerous options, documented in the GMT docs [here](https://docs.generic-mapping-tools.org/latest/plot.html#s). Note that the `-S` is for GMT only and is not needed here, e.g.: `-Sc0.4i` equals `style='c0.4i` and translates to a circle of diameter 0.4 inches."
   ]
  },
  {
   "cell_type": "code",
   "execution_count": null,
   "metadata": {},
   "outputs": [],
   "source": [
    "from numpy.random import randint\n",
    "\n",
    "POINT_FILL = 'red'\n",
    "NUM_PTS = 5\n",
    "\n",
    "lons = randint(-160, -141, NUM_PTS)\n",
    "lats = randint(55, 71, NUM_PTS)\n",
    "\n",
    "# Notice that we're just plotting into the pre-existing Figure instance\n",
    "fig.plot(\n",
    "    x=lons,\n",
    "    y=lats,\n",
    "    style='a0.2i',\n",
    "    color=POINT_FILL,\n",
    "    pen='black',\n",
    "    label=f'{POINT_FILL}',\n",
    ")\n",
    "fig.show()"
   ]
  },
  {
   "cell_type": "markdown",
   "metadata": {},
   "source": [
    "Legends in GMT are very customizable, but in PyGMT all you must do to create a basic one is add the `label` argument to your `fig.plot()` command and then call [`fig.legend()`](https://www.pygmt.org/latest/api/generated/pygmt.Figure.legend.html#pygmt.Figure.legend). This is similar to Matplotlib's functionality."
   ]
  },
  {
   "cell_type": "code",
   "execution_count": null,
   "metadata": {},
   "outputs": [],
   "source": [
    "fig.legend()\n",
    "fig.show()"
   ]
  },
  {
   "cell_type": "markdown",
   "metadata": {},
   "source": [
    "### `Figure.grdimage()`\n",
    "\n",
    "[`Figure.grdimage()`](https://www.pygmt.org/latest/api/generated/pygmt.Figure.grdimage.html#pygmt.Figure.grdimage) plots grids, or rasters, on maps. It is similar to Matplotlib's `imshow()`. Importantly, GMT (and therefore PyGMT) can conveniently download and cache a number of useful grids, such as global relief data and NASA satellite imagery. These options are accessed by providing a string beginning with \"@\" to `Figure.grdimage()` and or grid-related commands. The available datasets with their strings are [here](https://docs.generic-mapping-tools.org/latest/datasets.html). Here are a few examples:"
   ]
  },
  {
   "cell_type": "code",
   "execution_count": null,
   "metadata": {},
   "outputs": [],
   "source": [
    "KWARGS = dict(\n",
    "    grid='@earth_relief_10m',\n",
    "    region='g',\n",
    "    projection='R-130/5i',\n",
    "    frame=0,\n",
    ")\n",
    "\n",
    "fig = pygmt.Figure()\n",
    "fig.grdimage(**KWARGS)\n",
    "fig.shift_origin(xshift='3i')  # Shift for next call\n",
    "fig.grdimage(shading=True, **KWARGS)  # Add illumination!\n",
    "fig.show()"
   ]
  },
  {
   "cell_type": "markdown",
   "metadata": {},
   "source": [
    "PyGMT can either use \"@\" filenames like the above, true filenames for raster files (like GeoTIFFs, etc.), or [`xarray.DataArray`](http://xarray.pydata.org/en/stable/generated/xarray.DataArray.html) objects. Below, we create our own grid and feed it to GMT."
   ]
  },
  {
   "cell_type": "code",
   "execution_count": null,
   "metadata": {},
   "outputs": [],
   "source": [
    "import xarray as xr\n",
    "import numpy as np\n",
    "\n",
    "# Define an interesting function of two variables, see:\n",
    "# https://en.wikipedia.org/wiki/Ackley_function\n",
    "def ackley(x, y):\n",
    "    return (\n",
    "        -20 * np.exp(-0.2 * np.sqrt(0.5 * (x ** 2 + y ** 2)))\n",
    "        - np.exp(0.5 * (np.cos(2 * np.pi * x) + np.cos(2 * np.pi * y)))\n",
    "        + np.exp(1)\n",
    "        + 20\n",
    "    )\n",
    "\n",
    "# Create gridded data\n",
    "INC = 0.05\n",
    "x = np.arange(-20, 20 + INC, INC)\n",
    "y = np.arange(-20, 20 + INC, INC)\n",
    "data = xr.DataArray(ackley(*np.meshgrid(x, y)), coords=(x, y))\n",
    "\n",
    "fig = pygmt.Figure()\n",
    "fig.grdimage(\n",
    "    data,\n",
    "    frame=True,\n",
    "    projection='X3i',  # X specifies a simple Cartesian coordinate system\n",
    "    cmap='inferno',\n",
    ")\n",
    "fig.show()"
   ]
  },
  {
   "cell_type": "markdown",
   "metadata": {},
   "source": [
    "If we instead plot this grid on a geographic projection, GMT will project the grid accordingly. Let's add a colorbar, too. Colorbars are created using [`Figure.colorbar()`](https://www.pygmt.org/latest/api/generated/pygmt.Figure.colorbar.html#pygmt.Figure.colorbar). Try changing the colormap below by giving a different string to `cmap` — GMT colormaps are called color palette tables (CPTs) and they're listed [here](https://docs.generic-mapping-tools.org/6.1/cookbook/cpts.html)."
   ]
  },
  {
   "cell_type": "code",
   "execution_count": null,
   "metadata": {},
   "outputs": [],
   "source": [
    "fig = pygmt.Figure()\n",
    "fig.coast(region='g', projection='R150/8i', shorelines=True, frame=True)\n",
    "fig.grdimage(data, cmap='viridis', Q=True)\n",
    "fig.colorbar(frame='+l\"# of kittens\"')\n",
    "fig.show()"
   ]
  },
  {
   "cell_type": "markdown",
   "metadata": {},
   "source": [
    "## 3. Accessing GMT modules using PyGMT\n",
    "\n",
    "PyGMT works by 1) wrapping GMT commands (called \"modules\" in GMT lingo) in a more \"Pythonic\" shell and 2) facilitating Python data objects to be passed to GMT modules. GMT modules are getting added regularly — but if you don't find the one you need in the API reference, don't fret! You can still call any GMT module using PyGMT using the [`pygmt.clib.Session`](https://www.pygmt.org/latest/api/generated/pygmt.clib.Session.html#pygmt.clib.Session) class's context manager ([what's a context manager?](https://book.pythontips.com/en/latest/context_managers.html)). Below, an example using GMT's [`meca`](https://docs.generic-mapping-tools.org/latest/supplements/seis/meca.html) module, which plots focal mechanisms:"
   ]
  },
  {
   "cell_type": "code",
   "execution_count": null,
   "metadata": {
    "scrolled": false
   },
   "outputs": [],
   "source": [
    "fig = pygmt.Figure()\n",
    "\n",
    "# Create a nice backdrop\n",
    "fig.coast(\n",
    "    region='IN',\n",
    "    projection='M4i',\n",
    "    frame=True,\n",
    "    shorelines=True,\n",
    "    water='lightblue',\n",
    "    land='lightbrown',\n",
    "    borders=1,\n",
    ")\n",
    "\n",
    "# Use a few context managers to call meca\n",
    "with pygmt.helpers.GMTTempFile() as temp_file:\n",
    "    with open(temp_file.name, 'w') as f:\n",
    "        f.write('75.8 26.9 0 15 90 0 5 0 0')\n",
    "    with pygmt.clib.Session() as session:\n",
    "        session.call_module('meca', f'{temp_file.name} -Sa0.5i')\n",
    "\n",
    "fig.show()"
   ]
  },
  {
   "cell_type": "markdown",
   "metadata": {},
   "source": [
    "## 4. Resources\n",
    "\n",
    "* Documentation: [pygmt.org](https://www.pygmt.org/latest/)\n",
    "\n",
    "* Documentation (development version = master branch on GitHub): [pygmt.org/dev](https://www.pygmt.org/dev/)\n",
    "\n",
    "* If documentation doesn't have the answer, ask on the GMT forum under the Q&A category: [forum.generic-mapping-tools.org](https://forum.generic-mapping-tools.org/)\n",
    "\n",
    "* If you think something isn't working right, file an Issue on GitHub: [github.com/GenericMappingTools/pygmt](https://github.com/GenericMappingTools/pygmt)"
   ]
  }
 ],
 "metadata": {
  "kernelspec": {
   "display_name": "Python 3",
   "language": "python",
   "name": "python3"
  },
  "language_info": {
   "codemirror_mode": {
    "name": "ipython",
    "version": 3
   },
   "file_extension": ".py",
   "mimetype": "text/x-python",
   "name": "python",
   "nbconvert_exporter": "python",
   "pygments_lexer": "ipython3",
   "version": "3.7.8"
  }
 },
 "nbformat": 4,
 "nbformat_minor": 4
}
