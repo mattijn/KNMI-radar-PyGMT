{
 "cells": [
  {
   "cell_type": "markdown",
   "metadata": {},
   "source": [
    "<h1 style=\"text-align:center; color:#8738d6;\">ROSES Unit 8 — PyGMT (Lab notebook)</h1>\n",
    "<br>\n",
    "<br>\n",
    "<div style=\"text-align:center; font-size:16px\">\n",
    "    <b><a href=\"https://liam.earth/\">Liam Toney</a></b><br>\n",
    "    <br>\n",
    "    Geophysical Institute,<br>\n",
    "    University of Alaska Fairbanks<br>\n",
    "    <br>\n",
    "    11 August 2020\n",
    "</div>"
   ]
  },
  {
   "cell_type": "markdown",
   "metadata": {},
   "source": [
    "---\n",
    "## Lab Activity 1 — Station map from ObsPy Stream\n",
    "\n",
    "This activity will showcase a real-word use of PyGMT: Creating station maps. We'll try out and modify a handy, generalizable station map creation function, `plot_stations()`, that can plot the stations contained in an ObsPy Stream. I've provided most, but not all, of the code for this function.\n",
    "\n",
    "**Note:** Since the focus here is on PyGMT and not ObsPy, I've provided a function which attaches coordinates to ObsPy streams using ObsPy's [`Client.get_stations()`](https://docs.obspy.org/packages/autogen/obspy.clients.fdsn.client.Client.get_stations.html) method. It's defined below; don't worry too much about the inner workings (unless you're curious, of course)."
   ]
  },
  {
   "cell_type": "code",
   "execution_count": null,
   "metadata": {
    "scrolled": true
   },
   "outputs": [],
   "source": [
    "from obspy.clients.fdsn import Client\n",
    "import numpy as np\n",
    "\n",
    "client = Client('IRIS')\n",
    "\n",
    "def attach_iris_coordinates(st):\n",
    "    \"\"\"Returns a copy of the input Stream with coordinates from IRIS FDSN attached.\"\"\"\n",
    "    inv = client.get_stations(\n",
    "        starttime=np.max([tr.stats.starttime for tr in st]),\n",
    "        endtime=np.min([tr.stats.endtime for tr in st]),\n",
    "        network=','.join(np.unique([tr.stats.network for tr in st])),\n",
    "        station=','.join(np.unique([tr.stats.station for tr in st])),\n",
    "        location=','.join(np.unique([tr.stats.location for tr in st])),\n",
    "        channel=','.join(np.unique([tr.stats.channel for tr in st])),\n",
    "        level='channel',\n",
    "    )\n",
    "    st_out = st.copy()\n",
    "    for tr in st_out:\n",
    "        coords = inv.get_coordinates(tr.id)\n",
    "        tr.stats.longitude = coords['longitude']\n",
    "        tr.stats.latitude = coords['latitude']\n",
    "    return st_out"
   ]
  },
  {
   "cell_type": "markdown",
   "metadata": {},
   "source": [
    "Now, for the actual station map function. This function takes two arguments: `st` and `label`. The latter argument controls labeling of stations with their network and station codes, and **is not implemented** — so setting `label=True` does nothing! Go ahead and run the below cell to define the function, and then try the following:\n",
    "\n",
    "1. Experiment with providing different Streams (i.e., of your favorite station(s) or network) to this function, and see how it responds (see example usage below) — try to understand how the `region` and `projection` are chosen, and how we avoid plotting multiple Traces belonging to the same station, for e.g. three-component data.\n",
    "<br><br>\n",
    "2. Implement the station labeling functionality. This can be accomplished by adding a single line where I've placed a `TODO` below.\n",
    "\n",
    "**Bonus:** Add an automatically-sized scalebar to the map. See the [documentation for `Figure.basemap()`](https://www.pygmt.org/latest/api/generated/pygmt.Figure.basemap.html#pygmt.Figure.basemap) to get started."
   ]
  },
  {
   "cell_type": "code",
   "execution_count": null,
   "metadata": {},
   "outputs": [],
   "source": [
    "import pygmt\n",
    "\n",
    "def plot_stations(st, label=False):\n",
    "    \"\"\"Plot the stations in an ObsPy Stream on a map.\n",
    "    \n",
    "    Args:\n",
    "        st (ObsPy Stream): The input ObsPy Stream. Coordinates\n",
    "            for the stations in the Stream are automagically\n",
    "            grabbed from the IRIS FDSN.\n",
    "        label (bool): If True, label markers with network and\n",
    "            station information.\n",
    "            \n",
    "    Returns:\n",
    "        PyGMT Figure: The completed figure, ready to be\n",
    "            shown with e.g. fig.show().\n",
    "    \"\"\"\n",
    "    \n",
    "    # Gather coordinates for this Stream using the above helper function (makes a copy)\n",
    "    st_plot = attach_iris_coordinates(st)\n",
    "    \n",
    "    # Get coordinates and labels for each stations\n",
    "    lons = []\n",
    "    lats = []\n",
    "    names = []\n",
    "    unique_stations = np.unique([tr.stats.station for tr in st_plot])\n",
    "    for station in unique_stations:\n",
    "        tr = st_plot.select(station=station)[0]  # Just taking the first Trace if multiple\n",
    "        lons.append(tr.stats.longitude)\n",
    "        lats.append(tr.stats.latitude)\n",
    "        names.append(f'{tr.stats.network}.{tr.stats.station}')\n",
    "        \n",
    "    # Determine a nice, padded region\n",
    "    region = [np.min(lons), np.max(lons), np.min(lats), np.max(lats)]\n",
    "    x_pad = (region[1] - region[0]) * 0.1\n",
    "    y_pad = (region[3] - region[2]) * 0.1\n",
    "    region = [region[0] - x_pad, region[1] + x_pad, region[2] - y_pad, region[3] + y_pad]\n",
    "    \n",
    "    # Determine a nice stereographic projection\n",
    "    lon_0 = np.mean(region[:2])\n",
    "    lat_0 = np.mean(region[2:])\n",
    "    if lat_0 > 0:\n",
    "        ref_lat = 90\n",
    "    else:\n",
    "        ref_lat = -90\n",
    "    projection = f'S{lon_0}/{ref_lat}/6i'\n",
    "    \n",
    "    # Create figure\n",
    "    fig = pygmt.Figure()\n",
    "    fig.coast(\n",
    "        region=region,\n",
    "        projection=projection,\n",
    "        shorelines=True,\n",
    "        water='lightblue',\n",
    "        land='lightgrey',\n",
    "        N=[1, 2],\n",
    "        frame='a',\n",
    "    )\n",
    "    fig.plot(lons, lats, style='i0.2i', color='red', pen=True)\n",
    "    if label:\n",
    "        pass\n",
    "        \"\"\"\n",
    "        TODO: Add a line here to enable station labeling. Hint: Look for a function\n",
    "              that can plot text within the PyGMT API Reference webpage:\n",
    "              https://www.pygmt.org/latest/api/index.html\n",
    "        \"\"\"\n",
    "\n",
    "    return fig"
   ]
  },
  {
   "cell_type": "markdown",
   "metadata": {},
   "source": [
    "Example usage (try grabbing data for different stations/networks to see what happens)."
   ]
  },
  {
   "cell_type": "code",
   "execution_count": null,
   "metadata": {
    "scrolled": false
   },
   "outputs": [],
   "source": [
    "from obspy import UTCDateTime\n",
    "\n",
    "# Grab a Stream of stations from the NZ National Seismographic Network\n",
    "# (I'm keeping the data duration short here for demonstration's sake)\n",
    "starttime = UTCDateTime(2020, 7, 1)\n",
    "st = client.get_waveforms(\n",
    "    network='NZ',\n",
    "    station='*',\n",
    "    location='*',\n",
    "    channel='HHZ',\n",
    "    starttime=starttime,\n",
    "    endtime=starttime + 5,\n",
    ")\n",
    "\n",
    "# Plot stations\n",
    "plot_stations(st, label=False)"
   ]
  },
  {
   "cell_type": "markdown",
   "metadata": {},
   "source": [
    "---\n",
    "## Lab Activity 2 — Plotting depth slices through a tomographic model\n",
    "\n",
    "Contextualizing tomographic models on a map is another common mapping task for seismologists. In this activity, we'll plot depth slices of a (very unrealistic) tomographic model of Volcán Villarica in Chile, with some geographic context. The below cell creates a 3D [`xarray.DataArray`](http://xarray.pydata.org/en/stable/generated/xarray.DataArray.html) with dimensions of latitude, longitude, and depth (km) and data values of shear-wave velocity (km/s)."
   ]
  },
  {
   "cell_type": "code",
   "execution_count": null,
   "metadata": {},
   "outputs": [],
   "source": [
    "import xarray as xr\n",
    "\n",
    "VILLARICA_COORDS = (-71.93, -39.42)\n",
    "\n",
    "INC = 0.005  # [deg.] Cell size for tomography model\n",
    "EXTENT = 0.1  # [deg.] Extent (radius from volcano) of model\n",
    "axis = np.arange(-EXTENT, EXTENT + INC, INC)\n",
    "x = axis + VILLARICA_COORDS[0]\n",
    "y = axis + VILLARICA_COORDS[1]\n",
    "depth = [5, 10, 15]  # [km] Depths for model\n",
    "\n",
    "VS_MIN = 1  # [km/s]\n",
    "VS_RANGE = 3  # [km/s]\n",
    "\n",
    "# Construct and tweak model velocities\n",
    "model = VS_RANGE * np.random.random_sample(\n",
    "    size=(x.size, y.size, len(depth))\n",
    ") + VS_MIN  # [km/s]\n",
    "for i in range(len(depth)):\n",
    "    model[:,:,i] += i  # Make deeper layers faster\n",
    "    \n",
    "# Create xarray DataArray\n",
    "model = xr.DataArray(model, coords=(y, x, depth), dims=('lat', 'lon', 'depth'))\n",
    "print(model.coords)"
   ]
  },
  {
   "cell_type": "markdown",
   "metadata": {},
   "source": [
    "Now to plot — if you run the cell below, you'll see a pretty shaded-relief grayscale image of Villarica, but no tomographic slice. You'll need to add a line where I've marked `TODO` to plot a model depth slice. Once you have the model plotted, try changing the value of `DEPTH` below to see how velocity varies with depth.\n",
    "\n",
    "**Bonus:** Can you figure out how to make the slice translucent? Hint: You'll need to look at the GMT docs for `grdimage` for this!"
   ]
  },
  {
   "cell_type": "code",
   "execution_count": null,
   "metadata": {},
   "outputs": [],
   "source": [
    "DEPTH = 5  # [km]\n",
    "\n",
    "assert DEPTH in depth, f'DEPTH must be one of {depth} km!'\n",
    "\n",
    "fig = pygmt.Figure()\n",
    "pygmt.config(FORMAT_GEO_MAP='D')  # Use decimal degrees\n",
    "fig.grdimage(\n",
    "    '@srtm_relief_01s',\n",
    "    region=[-72.2, -71.6, -39.6, -39.2],\n",
    "    projection='M4i',\n",
    "    cmap='gray',\n",
    "    frame=['a0.2', f'+t\"{DEPTH} km depth\"'],\n",
    "    shading=True,\n",
    ")\n",
    "pygmt.makecpt(cmap='jet', reverse=True, series=[VS_MIN, int(np.ceil(model.max()))])\n",
    "\"\"\"\n",
    "TODO: Add a line here to plot a slice through the tomographic model\n",
    "      corresponding to DEPTH. Hint: To select a depth slice from the\n",
    "      \"model\" DataArray, use the following syntax: model.sel(depth=DEPTH).\n",
    "      What PyGMT plotting method plots grids?\n",
    "\"\"\"\n",
    "fig.colorbar(frame='a1+l\"Shear-wave velocity (km/s)\"')\n",
    "fig.plot(*VILLARICA_COORDS, style='t0.15i', color='red', pen=True, label='Villarica')\n",
    "fig.legend()\n",
    "fig.show()"
   ]
  }
 ],
 "metadata": {
  "kernelspec": {
   "display_name": "Python 3",
   "language": "python",
   "name": "python3"
  },
  "language_info": {
   "codemirror_mode": {
    "name": "ipython",
    "version": 3
   },
   "file_extension": ".py",
   "mimetype": "text/x-python",
   "name": "python",
   "nbconvert_exporter": "python",
   "pygments_lexer": "ipython3",
   "version": "3.7.8"
  }
 },
 "nbformat": 4,
 "nbformat_minor": 4
}
